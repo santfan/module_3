{
  "nbformat": 4,
  "nbformat_minor": 0,
  "metadata": {
    "colab": {
      "provenance": [],
      "authorship_tag": "ABX9TyNvHceoKkkmosBxHkXKFJXD",
      "include_colab_link": true
    },
    "kernelspec": {
      "name": "python3",
      "display_name": "Python 3"
    },
    "language_info": {
      "name": "python"
    }
  },
  "cells": [
    {
      "cell_type": "markdown",
      "metadata": {
        "id": "view-in-github",
        "colab_type": "text"
      },
      "source": [
        "<a href=\"https://colab.research.google.com/github/santfan/module_3/blob/main/module_3_1_google.ipynb\" target=\"_parent\"><img src=\"https://colab.research.google.com/assets/colab-badge.svg\" alt=\"Open In Colab\"/></a>"
      ]
    },
    {
      "cell_type": "code",
      "execution_count": 2,
      "metadata": {
        "colab": {
          "base_uri": "https://localhost:8080/"
        },
        "id": "vgNCNrwyX_FC",
        "outputId": "47be8c21-9a75-4ba4-dfcb-b827055d9658"
      },
      "outputs": [
        {
          "output_type": "stream",
          "name": "stdout",
          "text": [
            "(8, 'CAPYBARA', 'capybara')\n",
            "(10, 'ARMAGEDDON', 'armageddon')\n",
            "True\n",
            "False\n",
            "4\n"
          ]
        }
      ],
      "source": [
        "calls = 0\n",
        "def count_calls():\n",
        "    global calls\n",
        "    calls += 1\n",
        "    return calls\n",
        "\n",
        "def string_info(string):\n",
        "    count_calls()\n",
        "    return (len(string), string.upper(), string.lower())\n",
        "\n",
        "def is_contains(string, list_to_search):\n",
        "    count_calls()\n",
        "    for i in range(len(list_to_search)):\n",
        "        list_to_search[i] = list_to_search[i].lower()\n",
        "    return string.lower() in list_to_search\n",
        "\n",
        "print(string_info('Capybara'))\n",
        "print(string_info('Armageddon'))\n",
        "print(is_contains('Urban', ['ban', 'BaNaN', 'urBAN']))\n",
        "print(is_contains('cycle', ['recycling', 'cyclic']))\n",
        "print(calls)"
      ]
    },
    {
      "cell_type": "code",
      "source": [],
      "metadata": {
        "id": "bkgSGzl4YLlH"
      },
      "execution_count": null,
      "outputs": []
    }
  ]
}