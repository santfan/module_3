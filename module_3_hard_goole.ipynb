{
  "nbformat": 4,
  "nbformat_minor": 0,
  "metadata": {
    "colab": {
      "provenance": [],
      "authorship_tag": "ABX9TyPL9QGrlUSnQIIv0adAHlT9",
      "include_colab_link": true
    },
    "kernelspec": {
      "name": "python3",
      "display_name": "Python 3"
    },
    "language_info": {
      "name": "python"
    }
  },
  "cells": [
    {
      "cell_type": "markdown",
      "metadata": {
        "id": "view-in-github",
        "colab_type": "text"
      },
      "source": [
        "<a href=\"https://colab.research.google.com/github/santfan/module_3/blob/main/module_3_hard_goole.ipynb\" target=\"_parent\"><img src=\"https://colab.research.google.com/assets/colab-badge.svg\" alt=\"Open In Colab\"/></a>"
      ]
    },
    {
      "cell_type": "markdown",
      "source": [
        "Имеем входные данные в виде списка произвольной степени вложенности с различными тимпами элементов"
      ],
      "metadata": {
        "id": "I8654hJfkyKW"
      }
    },
    {
      "cell_type": "code",
      "execution_count": 1,
      "metadata": {
        "id": "HwMMoIJYLzZ8"
      },
      "outputs": [],
      "source": [
        "data_structure = [\n",
        "  [1, 2, 3],\n",
        "  {'a': 4, 'b': 5},\n",
        "  (6, {'cube': 7, 'drum': 8}),\n",
        "  \"Hello\",\n",
        "  ((), [{(2, 'Urban', ('Urban2', 35))}])\n",
        "]"
      ]
    },
    {
      "cell_type": "markdown",
      "source": [
        "Необходимо написать функцию calculate_structure_sum(data_structure), которая посчитает сумму всех чисел и длинну всех строк.\n",
        "Функция выдирающая вложенные списки"
      ],
      "metadata": {
        "id": "_QHmXFGvl0va"
      }
    },
    {
      "cell_type": "code",
      "source": [
        "def get_lists(lst):\n",
        "    # Результирующий список пока пуст\n",
        "    result = []\n",
        "    for elem in lst:\n",
        "        # Условия входа в рекурсию\n",
        "        if isinstance(elem, list):\n",
        "         result.extend(get_lists(elem))\n",
        "        # Выход из рекурсии\n",
        "        else:\n",
        "          result.append(elem)\n",
        "    # Возвращаем результат рвботы функции\n",
        "    return result"
      ],
      "metadata": {
        "id": "kZXgmVPbMMj3"
      },
      "execution_count": 2,
      "outputs": []
    },
    {
      "cell_type": "markdown",
      "source": [
        "Функция выдирающая вложенные словари"
      ],
      "metadata": {
        "id": "6SDKAsB0v0bE"
      }
    },
    {
      "cell_type": "code",
      "source": [
        "def get_dict(dict_, *val):\n",
        "    # Обработаем вложенный словарь\n",
        "    result = []\n",
        "    # Тут я пытался организовать рекурсивный вызов\n",
        "    if isinstance(dict_, dict):\n",
        "        # Организуем цикл получения пар ключ - значение\n",
        "        for key, value in dict_.items():\n",
        "           # Поученные списки пар ключ-значения добавим в результирующий список\n",
        "           result += [key, value]\n",
        "    else:\n",
        "        result.append(dict_)\n",
        "    # Вернем результат работы функции\n",
        "    return result"
      ],
      "metadata": {
        "id": "TNjGWvYJQqzQ"
      },
      "execution_count": 3,
      "outputs": []
    },
    {
      "cell_type": "markdown",
      "source": [
        "Функция прербразующая входные данные в \"плоский\" список и подсчитывающая сууму чисел и длинну строк"
      ],
      "metadata": {
        "id": "lmfrUX1EmVGn"
      }
    },
    {
      "cell_type": "code",
      "source": [
        "def calculate_structure_sum(data_):\n",
        "  # Объявим переменные\n",
        "  summ = 0                    # Итогову сумму выставляем в 0\n",
        "  flat_list = []              # Здесь будем формировать \"плоский список\"\n",
        "\n",
        "# Органицуем цикл обрабоки вложенных элементов в зависимости от типа данных\n",
        "  for elem in data_:\n",
        "    # Проверка элемента на строковый тип\n",
        "    if isinstance(elem, str):\n",
        "      # Элементы строкового типа поместим в \"плоский список\"\n",
        "      flat_list.append(elem)\n",
        "    # Проверка элемента на списочный тип\n",
        "    if isinstance(elem, list):\n",
        "      # Элементы списочного типа отправляем в функцию обработки списков\n",
        "      # Возращаемое значение помещаем в \"плоский список\"\n",
        "      flat_list.extend(get_lists(elem))\n",
        "    # Проыерка элемента типа кортеж\n",
        "    if isinstance(elem, tuple):\n",
        "      # Преобразуем элемент в список и добавим его в \"плоский список\"\n",
        "      flat_list.extend(list(elem))\n",
        "    # Проверка элемента словарного типа\n",
        "    if isinstance(elem, dict):\n",
        "      # Элементы словарного типа отправляем в функцию обработки словарей\n",
        "      # Возращаемое значение помещаем в \"плоский список\"\n",
        "      flat_list.extend(get_dict(elem))\n",
        "\n",
        "# Теперь обработаем хвост списка\n",
        "  for i in flat_list:\n",
        "    # Обработаем вложенный словарь\n",
        "    if isinstance(i, dict):\n",
        "      flat_list.remove(i)\n",
        "      flat_list.extend(get_dict(i))\n",
        "    # Обработаем вложенный список\n",
        "    if isinstance(i, list):\n",
        "      flat_list.extend(i)\n",
        "      flat_list.remove(i)\n",
        "  # Обработаем вложенное множество\n",
        "  set_ = flat_list.pop()\n",
        "  flat_list.extend(*set_)\n",
        "  # Обработаем последний вложенный кортеж\n",
        "  tuple_ = flat_list.pop()\n",
        "  flat_list += tuple_\n",
        "\n",
        "# Полученный \"плоский список\" содержит как числовый так и строковые значения\n",
        "# Организуем цикл обработки по длинне списка\n",
        "  for k in range(len(flat_list)):\n",
        "      # Если элемент число плюсуем в итоговую сумму\n",
        "      if isinstance(flat_list[k], int):\n",
        "        summ += flat_list[k]\n",
        "      # В противном случае это строка плюсуем длинну строки\n",
        "      else:\n",
        "        summ += len(flat_list[k])\n",
        "  # Выводим результат\n",
        "  print(f'Итоговая сумма всех чисел списка и длин строк : {summ}')"
      ],
      "metadata": {
        "id": "3GqrFY8xMr_h"
      },
      "execution_count": 4,
      "outputs": []
    },
    {
      "cell_type": "markdown",
      "source": [
        "Вызов функции"
      ],
      "metadata": {
        "id": "K_ezIrllm5D7"
      }
    },
    {
      "cell_type": "code",
      "source": [
        "calculate_structure_sum(data_structure)"
      ],
      "metadata": {
        "colab": {
          "base_uri": "https://localhost:8080/"
        },
        "id": "XbLmOsl7j5db",
        "outputId": "5cd9ec98-2fb6-4236-cc3c-cd79a23fece7"
      },
      "execution_count": 5,
      "outputs": [
        {
          "output_type": "stream",
          "name": "stdout",
          "text": [
            "Итоговая сумма всех чисел списка и длин строк : 99\n"
          ]
        }
      ]
    },
    {
      "cell_type": "markdown",
      "source": [
        "Как видим результат соответствует ожидаемому. Но результатом я не доволен. Это совсем не универсальный метод. Это решение применимо именно к этому списку. Мне кажется что имеет смысл начинать обработку с элемента списка который имеет наибольшую степень вложенности. Но еще более правильным считаю применить рекурсивный метод не к элементам списка а к самой функции **calculate_structure_sum**. Был бы крайне признателен вам за подсказки как это сделать   "
      ],
      "metadata": {
        "id": "cOhE9e16C9OE"
      }
    }
  ]
}