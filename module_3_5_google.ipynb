{
  "nbformat": 4,
  "nbformat_minor": 0,
  "metadata": {
    "colab": {
      "provenance": [],
      "authorship_tag": "ABX9TyNfyYRuR3AfFJk7BSNj+qkK",
      "include_colab_link": true
    },
    "kernelspec": {
      "name": "python3",
      "display_name": "Python 3"
    },
    "language_info": {
      "name": "python"
    }
  },
  "cells": [
    {
      "cell_type": "markdown",
      "metadata": {
        "id": "view-in-github",
        "colab_type": "text"
      },
      "source": [
        "<a href=\"https://colab.research.google.com/github/santfan/module_3/blob/main/module_3_5_google.ipynb\" target=\"_parent\"><img src=\"https://colab.research.google.com/assets/colab-badge.svg\" alt=\"Open In Colab\"/></a>"
      ]
    },
    {
      "cell_type": "code",
      "execution_count": 1,
      "metadata": {
        "id": "9fN84BBSjeDq"
      },
      "outputs": [],
      "source": [
        "# Объявим функцию\n",
        "def get_multiplied_digit(numbers):\n",
        "    # Преобразуем число в строку\n",
        "    str_numbers = str(numbers)\n",
        "    # Получим первую цифру\n",
        "    first = int(str_numbers[0])\n",
        "    # Посмотрим что в стеке вызова\n",
        "    print(f'Длина строковой переменной в стеке вызова {len(str_numbers)}')\n",
        "    print(f'Цифра которая находится в стеке вызова {first}')\n",
        "    # Зададим условия вызова рекурсивной функции\n",
        "    if len(str_numbers) > 1:\n",
        "        return first * get_multiplied_digit(int(str_numbers[1:]))\n",
        "    # Выход из рекурсии\n",
        "    else:\n",
        "        return first  # Это последнее число рекурсии и первое в стеке вызова"
      ]
    },
    {
      "cell_type": "code",
      "source": [
        "# Вызовем функцию с вводом числа и отбразим результат работы рекурсии\n",
        "print(get_multiplied_digit(int(input())))"
      ],
      "metadata": {
        "colab": {
          "base_uri": "https://localhost:8080/"
        },
        "id": "sAxZYdsdjrEU",
        "outputId": "262210f2-f276-4f06-d5cb-39cdf05ab0e1"
      },
      "execution_count": 2,
      "outputs": [
        {
          "output_type": "stream",
          "name": "stdout",
          "text": [
            "427456\n",
            "Длина строковой переменной в стеке вызова 6\n",
            "Цифра которая находится в стеке вызова 4\n",
            "Длина строковой переменной в стеке вызова 5\n",
            "Цифра которая находится в стеке вызова 2\n",
            "Длина строковой переменной в стеке вызова 4\n",
            "Цифра которая находится в стеке вызова 7\n",
            "Длина строковой переменной в стеке вызова 3\n",
            "Цифра которая находится в стеке вызова 4\n",
            "Длина строковой переменной в стеке вызова 2\n",
            "Цифра которая находится в стеке вызова 5\n",
            "Длина строковой переменной в стеке вызова 1\n",
            "Цифра которая находится в стеке вызова 6\n",
            "6720\n"
          ]
        }
      ]
    },
    {
      "cell_type": "code",
      "source": [],
      "metadata": {
        "id": "4fa_EBPsjsNR"
      },
      "execution_count": null,
      "outputs": []
    }
  ]
}