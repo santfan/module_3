{
  "nbformat": 4,
  "nbformat_minor": 0,
  "metadata": {
    "colab": {
      "provenance": [],
      "authorship_tag": "ABX9TyNzHqD2H0VPiv+eQnOtbdz4",
      "include_colab_link": true
    },
    "kernelspec": {
      "name": "python3",
      "display_name": "Python 3"
    },
    "language_info": {
      "name": "python"
    }
  },
  "cells": [
    {
      "cell_type": "markdown",
      "metadata": {
        "id": "view-in-github",
        "colab_type": "text"
      },
      "source": [
        "<a href=\"https://colab.research.google.com/github/santfan/module_3/blob/main/module_3_4_google.ipynb\" target=\"_parent\"><img src=\"https://colab.research.google.com/assets/colab-badge.svg\" alt=\"Open In Colab\"/></a>"
      ]
    },
    {
      "cell_type": "code",
      "execution_count": null,
      "metadata": {
        "id": "wkqUEGPt2X4m"
      },
      "outputs": [],
      "source": []
    },
    {
      "cell_type": "code",
      "source": [
        "# Объявим функцию\n",
        "def single_root_words(root_words, *other_words):\n",
        "    # Установим пустой список, в который будем складывать результаты\n",
        "    same_words = []\n",
        "    # Организуем цикл\n",
        "    for word in other_words:\n",
        "        # Зададим условия проверки\n",
        "        if root_words.lower() in word.lower() or word.lower() in root_words.lower():\n",
        "            # Добавим слова отвечающие условию\n",
        "            same_words.append(word)\n",
        "    # Преобразуем кортеж в список и вернем результат работы функции\n",
        "    return list(same_words)"
      ],
      "metadata": {
        "id": "BTB_F4uK2o07"
      },
      "execution_count": null,
      "outputs": []
    },
    {
      "cell_type": "code",
      "source": [
        "# Вызовем функцию с параметрами объявленными переменными\n",
        "result1 = single_root_words('rich', 'richiest', 'orichalcum', 'cheers', 'richies')\n",
        "result2 = single_root_words('Disablement', 'Able', 'Mable', 'Disable', 'Bagel')"
      ],
      "metadata": {
        "id": "VEh7yAIZ2rm1"
      },
      "execution_count": null,
      "outputs": []
    },
    {
      "cell_type": "code",
      "source": [
        "# Отобразим результаты работы функции\n",
        "print(result1)\n",
        "print(result2)"
      ],
      "metadata": {
        "colab": {
          "base_uri": "https://localhost:8080/"
        },
        "id": "ALEbbK_v213N",
        "outputId": "499508de-d052-47b8-faec-64b338847853"
      },
      "execution_count": null,
      "outputs": [
        {
          "output_type": "stream",
          "name": "stdout",
          "text": [
            "['richiest', 'orichalcum', 'richies']\n",
            "['Able', 'Disable']\n"
          ]
        }
      ]
    }
  ]
}