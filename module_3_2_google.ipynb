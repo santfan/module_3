{
  "nbformat": 4,
  "nbformat_minor": 0,
  "metadata": {
    "colab": {
      "provenance": [],
      "authorship_tag": "ABX9TyOlfq3k+6RxSAT5Qk+7Sa1l",
      "include_colab_link": true
    },
    "kernelspec": {
      "name": "python3",
      "display_name": "Python 3"
    },
    "language_info": {
      "name": "python"
    }
  },
  "cells": [
    {
      "cell_type": "markdown",
      "metadata": {
        "id": "view-in-github",
        "colab_type": "text"
      },
      "source": [
        "<a href=\"https://colab.research.google.com/github/santfan/module_3/blob/main/module_3_2_google.ipynb\" target=\"_parent\"><img src=\"https://colab.research.google.com/assets/colab-badge.svg\" alt=\"Open In Colab\"/></a>"
      ]
    },
    {
      "cell_type": "code",
      "execution_count": 14,
      "metadata": {
        "id": "u3gTGk5kn28P"
      },
      "outputs": [],
      "source": [
        "# Объявим принимающую функцию\n",
        "def send_email(message, recipient, sender = 'university.help@gmail.com'):\n",
        "  # Проверим выполняется ли тебования к эл. адресу\n",
        "  if ((recipient[recipient.rfind('.'):] in ['.com', '.ru', '.net']) +\n",
        "      ('@' in recipient) + ('@' in sender) +\n",
        "      (sender[sender.rfind('.'):] in ['.com', '.ru', '.net'])) != 4:\n",
        "      return f'Невозможно отправить письмо с адреса {sender} на адрес {recipient}.'\n",
        "  # Проверим совпадения адресов получателя и отправителя\n",
        "  elif sender == recipient:\n",
        "      return 'Нельзя отправить письмо самому себе!'\n",
        "  # Проверим условие нестандартного адреса отправителя\n",
        "  elif sender != 'university.help@gmail.com':\n",
        "      return f'НЕСТАНДАРТНЫЙ ОТПРАВИТЕЛЬ! Письмо отправлено с адреса {sender} на адрес {recipient}'\n",
        "  # В противном случае\n",
        "  else:\n",
        "      return f'Письмо успешно отправлено с адреса {sender} на адрес {recipient}'"
      ]
    },
    {
      "cell_type": "code",
      "source": [
        "# Проведем тестовые отправления"
      ],
      "metadata": {
        "id": "Bt6uvM8V0_D9"
      },
      "execution_count": 15,
      "outputs": []
    },
    {
      "cell_type": "code",
      "source": [
        "send_email('Пожалуйста, исправьте задание', 'urban.student@mail.ru', sender='urban.teacher@mail.uk')"
      ],
      "metadata": {
        "colab": {
          "base_uri": "https://localhost:8080/",
          "height": 35
        },
        "id": "q6rsPEdCuze2",
        "outputId": "ddc0c179-4662-4d26-9ac0-36c98f73fd4c"
      },
      "execution_count": 16,
      "outputs": [
        {
          "output_type": "execute_result",
          "data": {
            "text/plain": [
              "'Невозможно отправить письмо с адреса urban.teacher@mail.uk на адрес urban.student@mail.ru.'"
            ],
            "application/vnd.google.colaboratory.intrinsic+json": {
              "type": "string"
            }
          },
          "metadata": {},
          "execution_count": 16
        }
      ]
    },
    {
      "cell_type": "code",
      "source": [
        "send_email('Напоминаю самому себе о вебинаре', 'urban.teacher@mail.ru', sender='urban.teacher@mail.ru')"
      ],
      "metadata": {
        "colab": {
          "base_uri": "https://localhost:8080/",
          "height": 35
        },
        "id": "4oIlVnOW0fs8",
        "outputId": "f51033a3-66d9-4d8e-c58e-cc2303642cd6"
      },
      "execution_count": 17,
      "outputs": [
        {
          "output_type": "execute_result",
          "data": {
            "text/plain": [
              "'Нельзя отправить письмо самому себе!'"
            ],
            "application/vnd.google.colaboratory.intrinsic+json": {
              "type": "string"
            }
          },
          "metadata": {},
          "execution_count": 17
        }
      ]
    },
    {
      "cell_type": "code",
      "source": [
        "send_email('Это сообщение для проверки связи', 'vasyok1337@gmail.com')"
      ],
      "metadata": {
        "colab": {
          "base_uri": "https://localhost:8080/",
          "height": 35
        },
        "id": "-xCXer_BvAar",
        "outputId": "81e93ac6-ec72-4349-d911-c28d9d91c4cc"
      },
      "execution_count": 19,
      "outputs": [
        {
          "output_type": "execute_result",
          "data": {
            "text/plain": [
              "'Письмо успешно отправлено с адреса university.help@gmail.com на адрес vasyok1337@gmail.com'"
            ],
            "application/vnd.google.colaboratory.intrinsic+json": {
              "type": "string"
            }
          },
          "metadata": {},
          "execution_count": 19
        }
      ]
    },
    {
      "cell_type": "code",
      "source": [
        "send_email('Вы видите это сообщение как лучший студент курса!', 'urban.fan@mail.ru', sender='urban.info@gmail.com')"
      ],
      "metadata": {
        "colab": {
          "base_uri": "https://localhost:8080/",
          "height": 35
        },
        "id": "gOFm0VG-0vcy",
        "outputId": "320d580b-abb3-428e-f7c1-0e67e483108c"
      },
      "execution_count": 20,
      "outputs": [
        {
          "output_type": "execute_result",
          "data": {
            "text/plain": [
              "'НЕСТАНДАРТНЫЙ ОТПРАВИТЕЛЬ! Письмо отправлено с адреса urban.info@gmail.com на адрес urban.fan@mail.ru'"
            ],
            "application/vnd.google.colaboratory.intrinsic+json": {
              "type": "string"
            }
          },
          "metadata": {},
          "execution_count": 20
        }
      ]
    },
    {
      "cell_type": "code",
      "source": [],
      "metadata": {
        "id": "9wgxgZUI0x4u"
      },
      "execution_count": null,
      "outputs": []
    }
  ]
}