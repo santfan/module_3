{
  "nbformat": 4,
  "nbformat_minor": 0,
  "metadata": {
    "colab": {
      "provenance": [],
      "authorship_tag": "ABX9TyM+pfa6OPE+asan+baAfNZp",
      "include_colab_link": true
    },
    "kernelspec": {
      "name": "python3",
      "display_name": "Python 3"
    },
    "language_info": {
      "name": "python"
    }
  },
  "cells": [
    {
      "cell_type": "markdown",
      "metadata": {
        "id": "view-in-github",
        "colab_type": "text"
      },
      "source": [
        "<a href=\"https://colab.research.google.com/github/santfan/module_3/blob/main/module_3_3_google.ipynb\" target=\"_parent\"><img src=\"https://colab.research.google.com/assets/colab-badge.svg\" alt=\"Open In Colab\"/></a>"
      ]
    },
    {
      "cell_type": "code",
      "execution_count": 16,
      "metadata": {
        "id": "qkXWl4wTBLAJ"
      },
      "outputs": [],
      "source": [
        "# Объявим функцию с тремя именованными параметрами\n",
        "def print_params(a = 1, b = 'Python', c = True):\n",
        "    print(a, b, c)"
      ]
    },
    {
      "cell_type": "code",
      "source": [
        "# Попробуем вызвать объявленную функцию без параметров\n",
        "print_params()"
      ],
      "metadata": {
        "colab": {
          "base_uri": "https://localhost:8080/"
        },
        "id": "Nj9uQaF3CTo-",
        "outputId": "e7af93b3-a1e2-4a55-9473-0502240d5f48"
      },
      "execution_count": 17,
      "outputs": [
        {
          "output_type": "stream",
          "name": "stdout",
          "text": [
            "1 Python True\n"
          ]
        }
      ]
    },
    {
      "cell_type": "code",
      "source": [
        "# Как видим вызов функции с именованными параметрами возможен без указания\n",
        "# самих параметров. Функция подтянет не указанные параметры\n",
        "# Теперь попробуем вызвать функцию с одним указанным параметром\n",
        "# Для чистоты эксперемента изменим типы вызываемых параметров\n",
        "print_params(a = {'key_1': [1, 7, 8]})\n",
        "print_params(b = 25)\n",
        "print_params(c = [1, 2, 3])"
      ],
      "metadata": {
        "colab": {
          "base_uri": "https://localhost:8080/"
        },
        "id": "V4iMDq5cCq2s",
        "outputId": "3bcdd860-e2d7-4a52-be30-64a697c39bb3"
      },
      "execution_count": 18,
      "outputs": [
        {
          "output_type": "stream",
          "name": "stdout",
          "text": [
            "{'key_1': [1, 7, 8]} Python True\n",
            "1 25 True\n",
            "1 Python [1, 2, 3]\n"
          ]
        }
      ]
    },
    {
      "cell_type": "code",
      "source": [
        "# Как видим изменение типа данных именнованых параметров возможно\n",
        "# Тепрь вызовем функцию просто с произвольным типом без указания имен переменных\n",
        "print_params('bash', False, 28)"
      ],
      "metadata": {
        "colab": {
          "base_uri": "https://localhost:8080/"
        },
        "id": "1faJYTuDD_vR",
        "outputId": "825bed29-d8da-4b87-dabb-7584bec2befe"
      },
      "execution_count": 19,
      "outputs": [
        {
          "output_type": "stream",
          "name": "stdout",
          "text": [
            "bash False 28\n"
          ]
        }
      ]
    },
    {
      "cell_type": "code",
      "source": [
        "# Теперь вызовем функцию указав именованные параметры не в том порядке, который\n",
        "# который указан при создании\n",
        "print_params(b = 25, a = {'key_1': [1, 7, 8]}, c = (1, 68, 33))"
      ],
      "metadata": {
        "colab": {
          "base_uri": "https://localhost:8080/"
        },
        "id": "AaWm2aWWF6C9",
        "outputId": "62a7fd80-2444-47cb-ec6b-a58af762bfc0"
      },
      "execution_count": 20,
      "outputs": [
        {
          "output_type": "stream",
          "name": "stdout",
          "text": [
            "{'key_1': [1, 7, 8]} 25 (1, 68, 33)\n"
          ]
        }
      ]
    },
    {
      "cell_type": "code",
      "source": [
        "# Как видим не имеет занчения порядок передачи именованных переменных. Функция\n",
        "# расставит переменные в том порядке в котором они объявлены\n",
        "# Если мы попробуем передать переменную с именем которое не объвлено\n",
        "# Или количество переменных БОЛЬШЕ чкм принимает функция то будет выдана ошибка\n",
        "print_params(k = 17, s = [24, 7], m = False) # Другие имена"
      ],
      "metadata": {
        "colab": {
          "base_uri": "https://localhost:8080/",
          "height": 176
        },
        "id": "VOegloRYHnfh",
        "outputId": "40467ed1-1946-43c7-8856-05553c222b00"
      },
      "execution_count": 21,
      "outputs": [
        {
          "output_type": "error",
          "ename": "TypeError",
          "evalue": "print_params() got an unexpected keyword argument 'k'",
          "traceback": [
            "\u001b[0;31m---------------------------------------------------------------------------\u001b[0m",
            "\u001b[0;31mTypeError\u001b[0m                                 Traceback (most recent call last)",
            "\u001b[0;32m<ipython-input-21-cad1d33346a8>\u001b[0m in \u001b[0;36m<cell line: 5>\u001b[0;34m()\u001b[0m\n\u001b[1;32m      3\u001b[0m \u001b[0;31m# Если мы попробуем передать переменную с именем которое не объвлено\u001b[0m\u001b[0;34m\u001b[0m\u001b[0;34m\u001b[0m\u001b[0m\n\u001b[1;32m      4\u001b[0m \u001b[0;31m# Или количество переменных БОЛЬШЕ чкм принимает функция то будет выдана ошибка\u001b[0m\u001b[0;34m\u001b[0m\u001b[0;34m\u001b[0m\u001b[0m\n\u001b[0;32m----> 5\u001b[0;31m \u001b[0mprint_params\u001b[0m\u001b[0;34m(\u001b[0m\u001b[0mk\u001b[0m \u001b[0;34m=\u001b[0m \u001b[0;36m17\u001b[0m\u001b[0;34m,\u001b[0m \u001b[0ms\u001b[0m \u001b[0;34m=\u001b[0m \u001b[0;34m[\u001b[0m\u001b[0;36m24\u001b[0m\u001b[0;34m,\u001b[0m \u001b[0;36m7\u001b[0m\u001b[0;34m]\u001b[0m\u001b[0;34m,\u001b[0m \u001b[0mm\u001b[0m \u001b[0;34m=\u001b[0m \u001b[0;32mFalse\u001b[0m\u001b[0;34m)\u001b[0m \u001b[0;31m# Другие имена\u001b[0m\u001b[0;34m\u001b[0m\u001b[0;34m\u001b[0m\u001b[0m\n\u001b[0m",
            "\u001b[0;31mTypeError\u001b[0m: print_params() got an unexpected keyword argument 'k'"
          ]
        }
      ]
    },
    {
      "cell_type": "code",
      "source": [
        "print_params('Python', 590, True, {'key': 24}) # Количество превышено"
      ],
      "metadata": {
        "colab": {
          "base_uri": "https://localhost:8080/",
          "height": 141
        },
        "id": "tXngawWbJP66",
        "outputId": "ed866946-fda8-422d-c02c-3358a0ef7cf4"
      },
      "execution_count": 22,
      "outputs": [
        {
          "output_type": "error",
          "ename": "TypeError",
          "evalue": "print_params() takes from 0 to 3 positional arguments but 4 were given",
          "traceback": [
            "\u001b[0;31m---------------------------------------------------------------------------\u001b[0m",
            "\u001b[0;31mTypeError\u001b[0m                                 Traceback (most recent call last)",
            "\u001b[0;32m<ipython-input-22-95f6cfa86e32>\u001b[0m in \u001b[0;36m<cell line: 1>\u001b[0;34m()\u001b[0m\n\u001b[0;32m----> 1\u001b[0;31m \u001b[0mprint_params\u001b[0m\u001b[0;34m(\u001b[0m\u001b[0;34m'Python'\u001b[0m\u001b[0;34m,\u001b[0m \u001b[0;36m590\u001b[0m\u001b[0;34m,\u001b[0m \u001b[0;32mTrue\u001b[0m\u001b[0;34m,\u001b[0m \u001b[0;34m{\u001b[0m\u001b[0;34m'key'\u001b[0m\u001b[0;34m:\u001b[0m \u001b[0;36m24\u001b[0m\u001b[0;34m}\u001b[0m\u001b[0;34m)\u001b[0m \u001b[0;31m# Количество превышено\u001b[0m\u001b[0;34m\u001b[0m\u001b[0;34m\u001b[0m\u001b[0m\n\u001b[0m",
            "\u001b[0;31mTypeError\u001b[0m: print_params() takes from 0 to 3 positional arguments but 4 were given"
          ]
        }
      ]
    },
    {
      "cell_type": "code",
      "source": [
        "# Как видми выданы сообщения о ошибках\n",
        "# Теперь создадим переменную типа list\n",
        "values_list = [[1, 3, 7], (7, 4, 21), {'key_1': 17, 'key_2': [39, 556]}]\n",
        "# Вызовем функцию\n",
        "print_params(values_list)"
      ],
      "metadata": {
        "colab": {
          "base_uri": "https://localhost:8080/"
        },
        "id": "1i9noyA9JXRH",
        "outputId": "0d7583a3-7cb6-42ad-ac00-91c7c9568a67"
      },
      "execution_count": 23,
      "outputs": [
        {
          "output_type": "stream",
          "name": "stdout",
          "text": [
            "[[1, 3, 7], (7, 4, 21), {'key_1': 17, 'key_2': [39, 556]}] Python True\n"
          ]
        }
      ]
    },
    {
      "cell_type": "code",
      "source": [
        "# Как видим на позицию a встала переменная values_list остальные переменные\n",
        "# b и c подтянулись и функции\n",
        "# Теперь при вызове функции используем методы распаковки\n",
        "print_params(*values_list)"
      ],
      "metadata": {
        "colab": {
          "base_uri": "https://localhost:8080/"
        },
        "id": "c-3p7yAYKdiP",
        "outputId": "688fef5b-a6a8-49e0-e87b-738c4cda9e36"
      },
      "execution_count": 24,
      "outputs": [
        {
          "output_type": "stream",
          "name": "stdout",
          "text": [
            "[1, 3, 7] (7, 4, 21) {'key_1': 17, 'key_2': [39, 556]}\n"
          ]
        }
      ]
    },
    {
      "cell_type": "code",
      "source": [
        "# Как видим элементы переменной values_list встали на места a, b и с\n",
        "# Создадим словарь с тремя ключами\n",
        "values_dict = {'key_0': 'Python', 'key_1': True, 'key_2': [1, 2, 3]}\n",
        "# Вызовем функцию\n",
        "print_params(values_dict)"
      ],
      "metadata": {
        "colab": {
          "base_uri": "https://localhost:8080/"
        },
        "id": "ZsHNoDgELOJg",
        "outputId": "cc66b882-3dd8-4621-96e7-2a473113a9f6"
      },
      "execution_count": 25,
      "outputs": [
        {
          "output_type": "stream",
          "name": "stdout",
          "text": [
            "{'key_0': 'Python', 'key_1': True, 'key_2': [1, 2, 3]} Python True\n"
          ]
        }
      ]
    },
    {
      "cell_type": "code",
      "source": [
        "# Как видим словарь встал на место переменной а переменные b и c подтянулись из\n",
        "# функции. Теперь попробуем применить распаковку\n",
        "print_params(*values_dict)"
      ],
      "metadata": {
        "colab": {
          "base_uri": "https://localhost:8080/"
        },
        "id": "kSmeY70UMaMW",
        "outputId": "b7263181-2ec0-4101-bc24-6d8dc13d1a53"
      },
      "execution_count": 26,
      "outputs": [
        {
          "output_type": "stream",
          "name": "stdout",
          "text": [
            "key_0 key_1 key_2\n"
          ]
        }
      ]
    },
    {
      "cell_type": "code",
      "source": [
        "# Теперь попробуем распаковку **kwargs\n",
        "print_params(**values_dict)"
      ],
      "metadata": {
        "colab": {
          "base_uri": "https://localhost:8080/",
          "height": 159
        },
        "id": "R9eoHPsnNEof",
        "outputId": "f1cf08a4-d798-45f0-e279-5c6fea03c734"
      },
      "execution_count": 27,
      "outputs": [
        {
          "output_type": "error",
          "ename": "TypeError",
          "evalue": "print_params() got an unexpected keyword argument 'key_0'",
          "traceback": [
            "\u001b[0;31m---------------------------------------------------------------------------\u001b[0m",
            "\u001b[0;31mTypeError\u001b[0m                                 Traceback (most recent call last)",
            "\u001b[0;32m<ipython-input-27-f0c0793e368f>\u001b[0m in \u001b[0;36m<cell line: 2>\u001b[0;34m()\u001b[0m\n\u001b[1;32m      1\u001b[0m \u001b[0;31m# Теперь попробуем распаковку **kwargs\u001b[0m\u001b[0;34m\u001b[0m\u001b[0;34m\u001b[0m\u001b[0m\n\u001b[0;32m----> 2\u001b[0;31m \u001b[0mprint_params\u001b[0m\u001b[0;34m(\u001b[0m\u001b[0;34m**\u001b[0m\u001b[0mvalues_dict\u001b[0m\u001b[0;34m)\u001b[0m\u001b[0;34m\u001b[0m\u001b[0;34m\u001b[0m\u001b[0m\n\u001b[0m",
            "\u001b[0;31mTypeError\u001b[0m: print_params() got an unexpected keyword argument 'key_0'"
          ]
        }
      ]
    },
    {
      "cell_type": "code",
      "source": [
        "# ошибка связана с тем что в объявленной функции нет переменных key_0, key_1, key_2\n",
        "# Если в словаре измнить ключи\n",
        "values_dict = {'a': 'Python', 'b': True, 'c': [1, 2, 3]}\n",
        "# Теперь при вызове\n",
        "print_params(**values_dict)"
      ],
      "metadata": {
        "colab": {
          "base_uri": "https://localhost:8080/"
        },
        "id": "82BWhkLsNm-H",
        "outputId": "8a6d5963-d29d-4815-ee58-b2d1e561fac4"
      },
      "execution_count": 28,
      "outputs": [
        {
          "output_type": "stream",
          "name": "stdout",
          "text": [
            "Python True [1, 2, 3]\n"
          ]
        }
      ]
    },
    {
      "cell_type": "code",
      "source": [
        "# Все прошло штатно. Теперь создадим список с двумя элементами и при вызове\n",
        "# с распаковкой недостающий праметр\n",
        "values_list_2 = [6734, 'C#']\n",
        "print_params(*values_list_2, 'Привет я третий параметр')"
      ],
      "metadata": {
        "colab": {
          "base_uri": "https://localhost:8080/"
        },
        "id": "7YPs4fcVOc79",
        "outputId": "a745efaf-fa86-4aa7-9142-00fe5d9663b7"
      },
      "execution_count": 29,
      "outputs": [
        {
          "output_type": "stream",
          "name": "stdout",
          "text": [
            "6734 C# Привет я третий параметр\n"
          ]
        }
      ]
    },
    {
      "cell_type": "code",
      "source": [
        "# Как видим опять все отработало штотно"
      ],
      "metadata": {
        "id": "iYtKRCq6RFTj"
      },
      "execution_count": 30,
      "outputs": []
    }
  ]
}